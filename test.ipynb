{
 "cells": [
  {
   "cell_type": "code",
   "execution_count": 5,
   "metadata": {},
   "outputs": [],
   "source": [
    "# Imports\n",
    "\n",
    "# Import the main script for testing\n",
    "import main\n",
    "import numpy as np\n",
    "import datetime as dt\n",
    "import pandas as pd"
   ]
  },
  {
   "cell_type": "code",
   "execution_count": 14,
   "metadata": {},
   "outputs": [
    {
     "name": "stdout",
     "output_type": "stream",
     "text": [
      "Compiling MSFT\n",
      "Compiling AAPL\n",
      "Compiling TSLA\n",
      "Compiling FB\n",
      "Compiling F\n",
      "Compiling KO\n",
      "Compiling CMCSA\n",
      "Compiling NFLX\n",
      "Compiling INTU\n",
      "Compiling NVDA\n",
      "Compiling BABA\n",
      "Compiling EA\n",
      "Compiling ADBE\n",
      "Compiling ADSK\n",
      "Compiling GOOGL\n",
      "Compiling INTC\n",
      "Compiling COLM\n",
      "Compiling CSCO\n",
      "Compiling PEP\n",
      "Compiling AMZN\n",
      "Compiling SPOT\n",
      "Compiling NIO\n",
      "Compiling VTI\n",
      "Compiling VOO\n",
      "Compiling AMAT\n",
      "Compiling BYDDY\n",
      "Compiling GM\n",
      "Compiling FCAU\n",
      "Compiling GOOG\n",
      "Compiling UBER\n",
      "Compiling LYFT\n",
      "Compiling T\n",
      "Compiling FDX\n",
      "Compiling BIDU\n",
      "Compiling SNAP\n",
      "Compiling QCOM\n",
      "Compiling BYND\n",
      "Compiling DIS\n",
      "Compiling FIT\n",
      "Compiling GPRO\n",
      "Compiling VTSAX\n",
      "Compiling VTIAX\n",
      "Compiling VBTLX\n",
      "Compiling ^GSPC\n",
      "Compiling ^NSEI\n",
      "Compiling ^BSESN\n",
      "Compiling RELIANCE.NS\n",
      "Compiling AMD\n",
      "Compiling HDFCINDEXNIF.BO\n",
      "Compiling HDFCINDEXSEN.BO\n",
      "Compiling HEROMOTOCO.NS\n",
      "Compiling BOSCHLTD.NS\n",
      "Compiling ASTRAZEN.NS\n"
     ]
    }
   ],
   "source": [
    "# Program\n",
    "\n",
    "# Get tickers\n",
    "tickers = main.get_tickers()\n",
    "\n",
    "# Set start and end\n",
    "start = '2016/01/01'\n",
    "end = '2020/10/03'\n",
    "start = dt.datetime.strptime(start,'%Y/%m/%d')\n",
    "end = dt.datetime.strptime(end,'%Y/%m/%d')\n",
    "\n",
    "# Load the data\n",
    "df = main.load_data(tickers)\n",
    "\n",
    "# Get subset of time\n",
    "df = main.get_timeframe(df,start,end)\n",
    "\n",
    "# normalize\n",
    "df, factors = main.normalize(df)\n",
    "\n",
    "# Get last non null indexes\n",
    "idx = df.apply(pd.Series.last_valid_index)\n",
    "\n",
    "# Get last non null values\n",
    "last_values = []\n",
    "for col in df:\n",
    "    last_value = df[col].loc[idx[col]]\n",
    "    last_values.append(last_value)\n",
    "\n",
    "# Sort\n",
    "sort_order = np.argsort(np.array(last_values)*-1)\n",
    "factors = np.array(factors)[sort_order]\n",
    "last_values = np.array(last_values)[sort_order]\n",
    "df = main.reorder_cols(df,sort_order)\n",
    "\n",
    "# Get legend\n",
    "leg = main.create_legend(list(df),last_values,factors)\n",
    "\n",
    "# Register plotting converter\n",
    "pd.plotting.register_matplotlib_converters()\n"
   ]
  },
  {
   "cell_type": "code",
   "execution_count": 13,
   "metadata": {},
   "outputs": [
    {
     "ename": "NameError",
     "evalue": "name 'plt' is not defined",
     "output_type": "error",
     "traceback": [
      "\u001b[1;31m---------------------------------------------------------------------------\u001b[0m",
      "\u001b[1;31mNameError\u001b[0m                                 Traceback (most recent call last)",
      "\u001b[1;32m<ipython-input-13-f2dc9fbe189b>\u001b[0m in \u001b[0;36m<module>\u001b[1;34m\u001b[0m\n\u001b[0;32m      1\u001b[0m \u001b[1;31m# Plot\u001b[0m\u001b[1;33m\u001b[0m\u001b[1;33m\u001b[0m\u001b[1;33m\u001b[0m\u001b[0m\n\u001b[1;32m----> 2\u001b[1;33m \u001b[0mplt\u001b[0m\u001b[1;33m.\u001b[0m\u001b[0mrcParams\u001b[0m\u001b[1;33m[\u001b[0m\u001b[1;34m'figure.figsize'\u001b[0m\u001b[1;33m]\u001b[0m \u001b[1;33m=\u001b[0m \u001b[1;33m[\u001b[0m\u001b[1;36m15\u001b[0m\u001b[1;33m,\u001b[0m\u001b[1;36m10\u001b[0m\u001b[1;33m]\u001b[0m\u001b[1;33m\u001b[0m\u001b[1;33m\u001b[0m\u001b[0m\n\u001b[0m\u001b[0;32m      3\u001b[0m \u001b[0mplt\u001b[0m\u001b[1;33m.\u001b[0m\u001b[0mplot\u001b[0m\u001b[1;33m(\u001b[0m\u001b[0mdf\u001b[0m\u001b[1;33m)\u001b[0m\u001b[1;33m\u001b[0m\u001b[1;33m\u001b[0m\u001b[0m\n\u001b[0;32m      4\u001b[0m \u001b[0mplt\u001b[0m\u001b[1;33m.\u001b[0m\u001b[0mxlabel\u001b[0m\u001b[1;33m(\u001b[0m\u001b[1;34m'date'\u001b[0m\u001b[1;33m)\u001b[0m\u001b[1;33m\u001b[0m\u001b[1;33m\u001b[0m\u001b[0m\n\u001b[0;32m      5\u001b[0m \u001b[0mplt\u001b[0m\u001b[1;33m.\u001b[0m\u001b[0mylabel\u001b[0m\u001b[1;33m(\u001b[0m\u001b[1;34m'gain'\u001b[0m\u001b[1;33m)\u001b[0m\u001b[1;33m\u001b[0m\u001b[1;33m\u001b[0m\u001b[0m\n",
      "\u001b[1;31mNameError\u001b[0m: name 'plt' is not defined"
     ]
    }
   ],
   "source": [
    "# Plot\n",
    "plt.rcParams['figure.figsize'] = [15,10]\n",
    "plt.plot(df)\n",
    "plt.xlabel('date')\n",
    "plt.ylabel('gain')\n",
    "plt.grid('True')\n",
    "plt.legend(list(df))"
   ]
  },
  {
   "cell_type": "code",
   "execution_count": null,
   "metadata": {},
   "outputs": [],
   "source": []
  }
 ],
 "metadata": {
  "kernelspec": {
   "display_name": "Python 3",
   "language": "python",
   "name": "python3"
  },
  "language_info": {
   "codemirror_mode": {
    "name": "ipython",
    "version": 3
   },
   "file_extension": ".py",
   "mimetype": "text/x-python",
   "name": "python",
   "nbconvert_exporter": "python",
   "pygments_lexer": "ipython3",
   "version": "3.7.6"
  }
 },
 "nbformat": 4,
 "nbformat_minor": 2
}
