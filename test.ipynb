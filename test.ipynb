{
 "cells": [
  {
   "cell_type": "code",
   "execution_count": null,
   "metadata": {},
   "outputs": [],
   "source": [
    "# Imports\n",
    "import datetime as dt\n",
    "import matplotlib.pyplot as plt\n",
    "from matplotlib import style\n",
    "import pandas as pd\n",
    "import pandas_datareader.data as web"
   ]
  },
  {
   "cell_type": "code",
   "execution_count": null,
   "metadata": {},
   "outputs": [],
   "source": [
    "# Load and compile data\n",
    "\n",
    "# Set tickers\n",
    "tickers = [\n",
    "'MSFT',\n",
    "'AAPL',\n",
    "'TSLA',\n",
    "'FB',\n",
    "'F',\n",
    "'KO',\n",
    "'CMCSA',\n",
    "'NFLX',\n",
    "'INTU',\n",
    "'NVDA',\n",
    "'BABA',\n",
    "'EA',\n",
    "'ADBE',\n",
    "'ADSK',\n",
    "'GOOGL',\n",
    "'INTC',\n",
    "'COLM',\n",
    "'CSCO',\n",
    "'PEP',\n",
    "'AMZN',\n",
    "'SPOT',\n",
    "'NIO',\n",
    "'VTI',\n",
    "'VOO',\n",
    "]\n",
    "\n",
    "main_df = pd.DataFrame()\n",
    "for ticker in tickers:\n",
    "    try:\n",
    "        print('Compiling {}'.format(ticker))\n",
    "        df = pd.read_csv('stock_dfs/{}.csv'.format(ticker), index_col = 'Date',parse_dates = ['Date'])\n",
    "        df.rename(columns = {'Adj Close':ticker}, inplace = True)\n",
    "        df.drop(['Open','High','Low','Close','Volume'],1,inplace=True)\n",
    "\n",
    "        if main_df.empty:\n",
    "            main_df = df\n",
    "        else:\n",
    "            main_df = main_df.join(df,how='outer')\n",
    "    except Exception as e:\n",
    "        print('Failed to compile {}:\\n\\t{}'.format(ticker,e))\n",
    "   \n",
    "# Store only successful tickers\n",
    "tickers = list(main_df)"
   ]
  },
  {
   "cell_type": "code",
   "execution_count": null,
   "metadata": {},
   "outputs": [],
   "source": [
    "# Program\n",
    "\n",
    "start = dt.datetime(2018,1,1)\n",
    "end = dt.datetime(2019,12,26)\n",
    "\n",
    "# Create mask between time\n",
    "mask = (main_df.index > start) & (main_df.index < end)\n",
    "\n",
    "# Get dataframe for mask\n",
    "df = main_df.loc[mask]\n",
    "\n",
    "# Get first non null indexes\n",
    "idx = df.notnull().idxmax()\n",
    "\n",
    "# Normalize each column\n",
    "for col in df:\n",
    "    df[col] = df[col]/df[col].loc[idx[col]]\n",
    "    \n",
    "# Sort\n",
    "df = df.sort_values(df.last_valid_index(),ascending = False, axis=1)"
   ]
  },
  {
   "cell_type": "code",
   "execution_count": null,
   "metadata": {},
   "outputs": [],
   "source": [
    "# Plot\n",
    "plt.rcParams['figure.figsize'] = [15,10]\n",
    "plt.plot(df)\n",
    "plt.xlabel('date')\n",
    "plt.ylabel('gain')\n",
    "plt.grid('True')\n",
    "plt.legend(list(df))"
   ]
  }
 ],
 "metadata": {
  "kernelspec": {
   "display_name": "Python 3",
   "language": "python",
   "name": "python3"
  },
  "language_info": {
   "codemirror_mode": {
    "name": "ipython",
    "version": 3
   },
   "file_extension": ".py",
   "mimetype": "text/x-python",
   "name": "python",
   "nbconvert_exporter": "python",
   "pygments_lexer": "ipython3",
   "version": "3.7.5"
  }
 },
 "nbformat": 4,
 "nbformat_minor": 2
}
